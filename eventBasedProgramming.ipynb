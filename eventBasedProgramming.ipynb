{
 "cells": [
  {
   "cell_type": "code",
   "execution_count": 1,
   "metadata": {},
   "outputs": [],
   "source": [
    "#Keypress Events\n",
    "import turtle"
   ]
  },
  {
   "cell_type": "code",
   "execution_count": 2,
   "metadata": {},
   "outputs": [],
   "source": [
    "turtle.setup(400,500)              # Determine the window size\n",
    "\n",
    "wn=turtle.Screen()                 # Get a reference to the window\n",
    "wn.title(\"Handling keypresses!\")   # Change the window title\n",
    "wn.bgcolor(\"lightgreen\")           # Set the background color\n",
    "\n",
    "tess=turtle.Turtle()               # Create our favorite turtle"
   ]
  },
  {
   "cell_type": "code",
   "execution_count": 3,
   "metadata": {},
   "outputs": [],
   "source": [
    "# The next four functions are our \"event handlers\".\n",
    "def h1():\n",
    "    tess.forward(30)\n",
    "\n",
    "def h2():\n",
    "    tess.left(45)\n",
    "\n",
    "def h3():\n",
    "    tess.right(45)\n",
    "\n",
    "def h4():\n",
    "    wn.bye()# Close down the turtle window"
   ]
  },
  {
   "cell_type": "code",
   "execution_count": 5,
   "metadata": {},
   "outputs": [],
   "source": [
    "# These lines \"wire up\" keypresses to the handlers we've defined.\n",
    "wn.onkey(h1,\"Up\")\n",
    "wn.onkey(h2,\"Left\")\n",
    "wn.onkey(h3,\"Right\")\n",
    "wn.onkey(h4,\"q\")"
   ]
  },
  {
   "cell_type": "code",
   "execution_count": 6,
   "metadata": {},
   "outputs": [],
   "source": [
    "# Now we need to tell the window to start listening for events,\n",
    "# If any of the keys that we're monitoring is pressed, its\n",
    "# handler will be called.\n",
    "wn.listen()\n",
    "wn.mainloop()"
   ]
  },
  {
   "cell_type": "code",
   "execution_count": 5,
   "metadata": {},
   "outputs": [],
   "source": [
    "#Mouse Events\n",
    "import turtle\n",
    "\n",
    "turtle.setup(400,500)\n",
    "\n",
    "wn=turtle.Screen()\n",
    "wn.title(\"How to handle mouse clicks on the window!\")\n",
    "wn.bgcolor(\"lightgreen\")\n",
    "\n",
    "tess=turtle.Turtle()\n",
    "tess.color(\"purple\")\n",
    "tess.pensize(3)\n",
    "tess.shape(\"circle\")\n",
    "\n",
    "#def h1(x,y):\n",
    "#    tess.goto(x,y)\n",
    "\n",
    "def h1(x,y):\n",
    "    wn.title(\"Got click at coords {0}, {1}\".format(x,y))\n",
    "    tess.goto(x,y)\n",
    "\n",
    "wn.onclick(h1)# Wire up a click on the window.\n",
    "wn.mainloop()"
   ]
  },
  {
   "cell_type": "code",
   "execution_count": 7,
   "metadata": {},
   "outputs": [],
   "source": [
    "#Multiple Events\n",
    "import turtle\n",
    "\n",
    "turtle.setup(400,500)# Determine the window size\n",
    "\n",
    "wn=turtle.Screen()# Get a reference to the window\n",
    "wn.title(\"Handling mouse clicks!\")# Change the window title\n",
    "wn.bgcolor(\"lightgreen\")# Set the background color\n",
    "\n",
    "tess=turtle.Turtle()# Create two turtles\n",
    "tess.color(\"purple\")\n",
    "\n",
    "alex=turtle.Turtle()# Move them apart\n",
    "alex.color(\"blue\")\n",
    "alex.forward(100)\n",
    "\n",
    "def handler_for_tess(x,y):\n",
    "    wn.title(\"Tess clicked at {0}, {1}\".format(x,y))\n",
    "    tess.left(42)\n",
    "    tess.forward(30)\n",
    "    \n",
    "def handler_for_alex(x,y):\n",
    "    wn.title(\"Alex clicked at {0}, {1}\".format(x,y))\n",
    "    alex.right(84)\n",
    "    alex.forward(50)\n",
    "\n",
    "tess.onclick(handler_for_tess)\n",
    "alex.onclick(handler_for_alex)\n",
    "\n",
    "wn.mainloop()"
   ]
  },
  {
   "cell_type": "code",
   "execution_count": 12,
   "metadata": {},
   "outputs": [],
   "source": [
    "# Timer Based Events\n",
    "import turtle\n",
    "turtle.setup(400,500)\n",
    "\n",
    "wn=turtle.Screen()\n",
    "wn.title(\"Using a timer\")\n",
    "wn.bgcolor(\"lightgreen\")\n",
    "\n",
    "tess=turtle.Turtle()\n",
    "tess.color(\"purple\")\n",
    "tess.pensize(3)\n",
    "\n",
    "def h1():\n",
    "    tess.forward(100)\n",
    "    tess.left(56)\n",
    "    \n",
    "wn.ontimer(h1,2000)\n",
    "wn.mainloop()\n"
   ]
  },
  {
   "cell_type": "code",
   "execution_count": 15,
   "metadata": {},
   "outputs": [
    {
     "name": "stderr",
     "output_type": "stream",
     "text": [
      "Exception in Tkinter callback\n",
      "Traceback (most recent call last):\n",
      "  File \"/Users/akhilasaineni/opt/anaconda3/lib/python3.8/tkinter/__init__.py\", line 1883, in __call__\n",
      "    return self.func(*args)\n",
      "  File \"/Users/akhilasaineni/opt/anaconda3/lib/python3.8/tkinter/__init__.py\", line 804, in callit\n",
      "    func(*args)\n",
      "  File \"<ipython-input-15-cc783cec6473>\", line 15, in h1\n",
      "    tess.left(56)\n",
      "  File \"/Users/akhilasaineni/opt/anaconda3/lib/python3.8/turtle.py\", line 1699, in left\n",
      "    self._rotate(angle)\n",
      "  File \"/Users/akhilasaineni/opt/anaconda3/lib/python3.8/turtle.py\", line 3276, in _rotate\n",
      "    self._update()\n",
      "  File \"/Users/akhilasaineni/opt/anaconda3/lib/python3.8/turtle.py\", line 2660, in _update\n",
      "    self._update_data()\n",
      "  File \"/Users/akhilasaineni/opt/anaconda3/lib/python3.8/turtle.py\", line 2646, in _update_data\n",
      "    self.screen._incrementudc()\n",
      "  File \"/Users/akhilasaineni/opt/anaconda3/lib/python3.8/turtle.py\", line 1292, in _incrementudc\n",
      "    raise Terminator\n",
      "turtle.Terminator\n"
     ]
    }
   ],
   "source": [
    "# timer with reset\n",
    "import turtle\n",
    "\n",
    "turtle.setup(400,500)\n",
    "\n",
    "wn=turtle.Screen()\n",
    "wn.title(\"Using a timer to get events!\")\n",
    "wn.bgcolor(\"lightgreen\")\n",
    "\n",
    "tess=turtle.Turtle()\n",
    "tess.color(\"purple\")\n",
    "\n",
    "def h1():\n",
    "    tess.forward(100)\n",
    "    tess.left(56)\n",
    "    wn.ontimer(h1,60)\n",
    "    \n",
    "h1()\n",
    "wn.mainloop()\n"
   ]
  },
  {
   "cell_type": "code",
   "execution_count": null,
   "metadata": {},
   "outputs": [],
   "source": []
  }
 ],
 "metadata": {
  "kernelspec": {
   "display_name": "Python 3",
   "language": "python",
   "name": "python3"
  },
  "language_info": {
   "codemirror_mode": {
    "name": "ipython",
    "version": 3
   },
   "file_extension": ".py",
   "mimetype": "text/x-python",
   "name": "python",
   "nbconvert_exporter": "python",
   "pygments_lexer": "ipython3",
   "version": "3.8.3"
  }
 },
 "nbformat": 4,
 "nbformat_minor": 4
}
